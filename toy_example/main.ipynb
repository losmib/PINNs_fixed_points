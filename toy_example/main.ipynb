{
 "cells": [
  {
   "cell_type": "markdown",
   "metadata": {},
   "source": [
    "### Load and Modify Configuration File"
   ]
  },
  {
   "cell_type": "code",
   "execution_count": 1,
   "metadata": {},
   "outputs": [
    {
     "name": "stdout",
     "output_type": "stream",
     "text": [
      "version : default\n",
      "seed : 1\n",
      "y0 : 0.1\n",
      "T : 15\n",
      "N_col : 1024\n",
      "N_hidden : 4\n",
      "N_neurons : 50\n",
      "activation : swish\n",
      "N_epochs : 20000\n",
      "learning_rate : 0.001\n",
      "decay_rate : 1.0\n",
      "freq_log : 10\n",
      "freq_print : 100\n",
      "keys_print : ['loss']\n",
      "reg_epochs : 10000\n"
     ]
    }
   ],
   "source": [
    "from configs.config_loader import load_config\n",
    "config = load_config('configs/default.yaml')"
   ]
  },
  {
   "cell_type": "markdown",
   "metadata": {},
   "source": [
    "### Initialize Physics-Informed Neural Network"
   ]
  },
  {
   "cell_type": "code",
   "execution_count": 2,
   "metadata": {},
   "outputs": [
    {
     "name": "stderr",
     "output_type": "stream",
     "text": [
      "2024-07-31 19:10:50.828360: I tensorflow/tsl/cuda/cudart_stub.cc:28] Could not find cuda drivers on your machine, GPU will not be used.\n",
      "2024-07-31 19:10:50.878051: I tensorflow/tsl/cuda/cudart_stub.cc:28] Could not find cuda drivers on your machine, GPU will not be used.\n",
      "2024-07-31 19:10:50.879145: I tensorflow/core/platform/cpu_feature_guard.cc:182] This TensorFlow binary is optimized to use available CPU instructions in performance-critical operations.\n",
      "To enable the following instructions: AVX2 FMA, in other operations, rebuild TensorFlow with the appropriate compiler flags.\n",
      "2024-07-31 19:10:51.768012: W tensorflow/compiler/tf2tensorrt/utils/py_utils.cc:38] TF-TRT Warning: Could not find TensorRT\n"
     ]
    },
    {
     "name": "stdout",
     "output_type": "stream",
     "text": [
      "Model: \"nested_PINN\"\n",
      "_________________________________________________________________\n",
      " Layer (type)                Output Shape              Param #   \n",
      "=================================================================\n",
      " dense (Dense)               (None, 50)                100       \n",
      "                                                                 \n",
      " dense_1 (Dense)             (None, 50)                2550      \n",
      "                                                                 \n",
      " dense_2 (Dense)             (None, 50)                2550      \n",
      "                                                                 \n",
      " dense_3 (Dense)             (None, 50)                2550      \n",
      "                                                                 \n",
      " dense_4 (Dense)             (None, 1)                 51        \n",
      "                                                                 \n",
      "=================================================================\n",
      "Total params: 7801 (30.47 KB)\n",
      "Trainable params: 7801 (30.47 KB)\n",
      "Non-trainable params: 0 (0.00 Byte)\n",
      "_________________________________________________________________\n",
      "*** PINN build & initialized ***\n"
     ]
    }
   ],
   "source": [
    "from model.neural_net import PhysicsInformedNN\n",
    "PINN = PhysicsInformedNN(config, verbose=True)"
   ]
  },
  {
   "cell_type": "markdown",
   "metadata": {},
   "source": [
    "### Train Physics-Informed Neural Network"
   ]
  },
  {
   "cell_type": "code",
   "execution_count": 3,
   "metadata": {
    "scrolled": true
   },
   "outputs": [
    {
     "name": "stdout",
     "output_type": "stream",
     "text": [
      "Training started...\n",
      "    0/20000 | loss: -4.44e-01\n",
      "  100/20000 | loss: -1.21e+00\n",
      "  200/20000 | loss: -1.35e+00\n",
      "  300/20000 | loss: -1.35e+00\n",
      "  400/20000 | loss: -1.35e+00\n",
      "  500/20000 | loss: -1.36e+00\n",
      "  600/20000 | loss: -1.38e+00\n",
      "  700/20000 | loss: -1.39e+00\n",
      "  800/20000 | loss: -1.38e+00\n",
      "  900/20000 | loss: -1.41e+00\n",
      " 1000/20000 | loss: -1.39e+00\n",
      " 1100/20000 | loss: -1.37e+00\n",
      " 1200/20000 | loss: -1.42e+00\n",
      " 1300/20000 | loss: -1.36e+00\n",
      " 1400/20000 | loss: -1.37e+00\n",
      " 1500/20000 | loss: -1.37e+00\n",
      " 1600/20000 | loss: -1.41e+00\n",
      " 1700/20000 | loss: -1.38e+00\n",
      " 1800/20000 | loss: -1.40e+00\n",
      " 1900/20000 | loss: -1.41e+00\n",
      " 2000/20000 | loss: -1.40e+00\n",
      " 2100/20000 | loss: -1.42e+00\n",
      " 2200/20000 | loss: -1.43e+00\n",
      " 2300/20000 | loss: -1.38e+00\n",
      " 2400/20000 | loss: -1.39e+00\n",
      " 2500/20000 | loss: -1.39e+00\n",
      " 2600/20000 | loss: -1.38e+00\n",
      " 2700/20000 | loss: -1.39e+00\n",
      " 2800/20000 | loss: -1.41e+00\n",
      " 2900/20000 | loss: -1.39e+00\n",
      " 3000/20000 | loss: -1.39e+00\n",
      " 3100/20000 | loss: -1.39e+00\n",
      " 3200/20000 | loss: -1.40e+00\n",
      " 3300/20000 | loss: -1.40e+00\n",
      " 3400/20000 | loss: -1.40e+00\n",
      " 3500/20000 | loss: -1.42e+00\n",
      " 3600/20000 | loss: -1.39e+00\n",
      " 3700/20000 | loss: -1.40e+00\n",
      " 3800/20000 | loss: -1.39e+00\n",
      " 3900/20000 | loss: -1.43e+00\n",
      " 4000/20000 | loss: -1.38e+00\n",
      " 4100/20000 | loss: -1.41e+00\n",
      " 4200/20000 | loss: -1.39e+00\n",
      " 4300/20000 | loss: -1.36e+00\n",
      " 4400/20000 | loss: -1.38e+00\n",
      " 4500/20000 | loss: -1.41e+00\n",
      " 4600/20000 | loss: -1.40e+00\n",
      " 4700/20000 | loss: -1.29e+00\n",
      " 4800/20000 | loss: -1.43e+00\n",
      " 4900/20000 | loss: -1.37e+00\n",
      " 5000/20000 | loss: -1.42e+00\n",
      " 5100/20000 | loss: -1.39e+00\n",
      " 5200/20000 | loss: -1.37e+00\n",
      " 5300/20000 | loss: -1.39e+00\n",
      " 5400/20000 | loss: -1.39e+00\n",
      " 5500/20000 | loss: -1.39e+00\n",
      " 5600/20000 | loss: -1.37e+00\n",
      " 5700/20000 | loss: -1.38e+00\n",
      " 5800/20000 | loss: -1.39e+00\n",
      " 5900/20000 | loss: -1.38e+00\n",
      " 6000/20000 | loss: -1.41e+00\n",
      " 6100/20000 | loss: -1.42e+00\n",
      " 6200/20000 | loss: -1.38e+00\n",
      " 6300/20000 | loss: -1.39e+00\n",
      " 6400/20000 | loss: -1.39e+00\n",
      " 6500/20000 | loss: -1.42e+00\n",
      " 6600/20000 | loss: -1.40e+00\n",
      " 6700/20000 | loss: -1.39e+00\n",
      " 6800/20000 | loss: -1.40e+00\n",
      " 6900/20000 | loss: -1.40e+00\n",
      " 7000/20000 | loss: -1.41e+00\n",
      " 7100/20000 | loss: -1.41e+00\n",
      " 7200/20000 | loss: -1.41e+00\n",
      " 7300/20000 | loss: -1.37e+00\n",
      " 7400/20000 | loss: -1.37e+00\n",
      " 7500/20000 | loss: -1.41e+00\n",
      " 7600/20000 | loss: -1.38e+00\n",
      " 7700/20000 | loss: -1.40e+00\n",
      " 7800/20000 | loss: -1.42e+00\n",
      " 7900/20000 | loss: -1.44e+00\n",
      " 8000/20000 | loss: -1.39e+00\n",
      " 8100/20000 | loss: -1.39e+00\n",
      " 8200/20000 | loss: -1.40e+00\n",
      " 8300/20000 | loss: -1.42e+00\n",
      " 8400/20000 | loss: -1.39e+00\n",
      " 8500/20000 | loss: -1.37e+00\n",
      " 8600/20000 | loss: -1.35e+00\n",
      " 8700/20000 | loss: -1.37e+00\n",
      " 8800/20000 | loss: -1.40e+00\n",
      " 8900/20000 | loss: -1.43e+00\n",
      " 9000/20000 | loss: -1.38e+00\n",
      " 9100/20000 | loss: -1.40e+00\n",
      " 9200/20000 | loss: -1.40e+00\n",
      " 9300/20000 | loss: -1.40e+00\n",
      " 9400/20000 | loss: -1.37e+00\n",
      " 9500/20000 | loss: -1.40e+00\n",
      " 9600/20000 | loss: -1.38e+00\n",
      " 9700/20000 | loss: -1.38e+00\n",
      " 9800/20000 | loss: -1.42e+00\n",
      " 9900/20000 | loss: -1.40e+00\n",
      "10000/20000 | loss: 2.19e-01\n",
      "10100/20000 | loss: 1.75e-03\n",
      "10200/20000 | loss: 1.64e-03\n",
      "10300/20000 | loss: 1.55e-03\n",
      "10400/20000 | loss: 1.33e-03\n",
      "10500/20000 | loss: 1.73e-03\n",
      "10600/20000 | loss: 1.43e-03\n",
      "10700/20000 | loss: 1.39e-03\n",
      "10800/20000 | loss: 1.34e-03\n",
      "10900/20000 | loss: 1.39e-03\n",
      "11000/20000 | loss: 1.41e-03\n",
      "11100/20000 | loss: 1.49e-03\n",
      "11200/20000 | loss: 1.45e-03\n",
      "11300/20000 | loss: 1.37e-03\n",
      "11400/20000 | loss: 1.15e-03\n",
      "11500/20000 | loss: 1.39e-03\n",
      "11600/20000 | loss: 1.26e-03\n",
      "11700/20000 | loss: 1.25e-03\n",
      "11800/20000 | loss: 1.29e-03\n",
      "11900/20000 | loss: 1.45e-03\n",
      "12000/20000 | loss: 1.49e-03\n",
      "12100/20000 | loss: 1.31e-03\n",
      "12200/20000 | loss: 1.30e-03\n",
      "12300/20000 | loss: 1.23e-03\n",
      "12400/20000 | loss: 1.16e-03\n",
      "12500/20000 | loss: 1.51e-03\n",
      "12600/20000 | loss: 1.30e-03\n",
      "12700/20000 | loss: 1.35e-03\n",
      "12800/20000 | loss: 1.45e-03\n",
      "12900/20000 | loss: 1.25e-03\n",
      "13000/20000 | loss: 1.31e-03\n",
      "13100/20000 | loss: 1.07e-03\n",
      "13200/20000 | loss: 1.06e-03\n",
      "13300/20000 | loss: 1.25e-03\n",
      "13400/20000 | loss: 1.11e-03\n",
      "13500/20000 | loss: 1.16e-03\n",
      "13600/20000 | loss: 1.40e-03\n",
      "13700/20000 | loss: 1.28e-03\n",
      "13800/20000 | loss: 1.27e-03\n",
      "13900/20000 | loss: 1.20e-03\n",
      "14000/20000 | loss: 1.39e-03\n",
      "14100/20000 | loss: 1.09e-03\n",
      "14200/20000 | loss: 1.24e-03\n",
      "14300/20000 | loss: 1.11e-03\n",
      "14400/20000 | loss: 1.54e-03\n",
      "14500/20000 | loss: 1.25e-03\n",
      "14600/20000 | loss: 9.89e-04\n",
      "14700/20000 | loss: 8.55e-04\n",
      "14800/20000 | loss: 8.28e-05\n",
      "14900/20000 | loss: 2.19e-05\n",
      "15000/20000 | loss: 1.29e-05\n",
      "15100/20000 | loss: 8.41e-06\n",
      "15200/20000 | loss: 8.29e-06\n",
      "15300/20000 | loss: 6.66e-06\n",
      "15400/20000 | loss: 4.24e-06\n",
      "15500/20000 | loss: 3.77e-06\n",
      "15600/20000 | loss: 3.14e-06\n",
      "15700/20000 | loss: 2.59e-06\n",
      "15800/20000 | loss: 2.04e-06\n",
      "15900/20000 | loss: 1.96e-06\n",
      "16000/20000 | loss: 1.40e-06\n",
      "16100/20000 | loss: 1.28e-06\n",
      "16200/20000 | loss: 3.22e-05\n",
      "16300/20000 | loss: 1.23e-06\n",
      "16400/20000 | loss: 9.21e-07\n",
      "16500/20000 | loss: 1.84e-05\n",
      "16600/20000 | loss: 6.40e-07\n",
      "16700/20000 | loss: 5.07e-07\n",
      "16800/20000 | loss: 4.99e-07\n",
      "16900/20000 | loss: 4.26e-07\n",
      "17000/20000 | loss: 5.16e-07\n",
      "17100/20000 | loss: 2.82e-05\n",
      "17200/20000 | loss: 5.05e-07\n",
      "17300/20000 | loss: 9.61e-07\n",
      "17400/20000 | loss: 5.44e-05\n",
      "17500/20000 | loss: 4.18e-07\n",
      "17600/20000 | loss: 4.52e-07\n",
      "17700/20000 | loss: 6.66e-07\n",
      "17800/20000 | loss: 6.18e-06\n",
      "17900/20000 | loss: 5.08e-07\n",
      "18000/20000 | loss: 2.54e-06\n",
      "18100/20000 | loss: 3.57e-07\n",
      "18200/20000 | loss: 7.03e-06\n",
      "18300/20000 | loss: 1.50e-05\n",
      "18400/20000 | loss: 2.56e-07\n",
      "18500/20000 | loss: 4.46e-06\n",
      "18600/20000 | loss: 6.18e-07\n",
      "18700/20000 | loss: 2.35e-07\n",
      "18800/20000 | loss: 1.56e-06\n",
      "18900/20000 | loss: 1.11e-06\n",
      "19000/20000 | loss: 4.98e-07\n",
      "19100/20000 | loss: 3.41e-06\n",
      "19200/20000 | loss: 1.32e-06\n",
      "19300/20000 | loss: 4.49e-05\n",
      "19400/20000 | loss: 3.09e-05\n",
      "19500/20000 | loss: 1.64e-07\n",
      "19600/20000 | loss: 2.85e-07\n",
      "19700/20000 | loss: 2.30e-07\n",
      "19800/20000 | loss: 3.04e-07\n",
      "19900/20000 | loss: 1.58e-07\n",
      "*** logs saved ***\n",
      "### Training finished ###\n"
     ]
    }
   ],
   "source": [
    "training_log = PINN.train()"
   ]
  },
  {
   "cell_type": "markdown",
   "metadata": {},
   "source": [
    "# Plot Section"
   ]
  },
  {
   "cell_type": "code",
   "execution_count": 4,
   "metadata": {},
   "outputs": [],
   "source": [
    "from model.plots import learning_curves, toy_example_dynamics"
   ]
  },
  {
   "cell_type": "markdown",
   "metadata": {},
   "source": [
    "### Learning Curves"
   ]
  },
  {
   "cell_type": "code",
   "execution_count": 5,
   "metadata": {},
   "outputs": [
    {
     "data": {
      "image/png": "[encoded data removed]",
      "text/plain": [
       "<Figure size 400x250 with 1 Axes>"
      ]
     },
     "metadata": {},
     "output_type": "display_data"
    }
   ],
   "source": [
    "learning_curves(training_log)"
   ]
  },
  {
   "cell_type": "markdown",
   "metadata": {},
   "source": [
    "### Toy Example Dynamics"
   ]
  },
  {
   "cell_type": "code",
   "execution_count": 6,
   "metadata": {},
   "outputs": [
    {
     "data": {
      "image/png": "[encoded data removed]",
      "text/plain": [
       "<Figure size 400x250 with 1 Axes>"
      ]
     },
     "metadata": {},
     "output_type": "display_data"
    }
   ],
   "source": [
    "toy_example_dynamics(PINN)"
   ]
  }
 ],
 "metadata": {
  "kernelspec": {
   "display_name": "Python 3",
   "language": "python",
   "name": "python3"
  },
  "language_info": {
   "codemirror_mode": {
    "name": "ipython",
    "version": 3
   },
   "file_extension": ".py",
   "mimetype": "text/x-python",
   "name": "python",
   "nbconvert_exporter": "python",
   "pygments_lexer": "ipython3",
   "version": "3.8.10"
  }
 },
 "nbformat": 4,
 "nbformat_minor": 2
}
